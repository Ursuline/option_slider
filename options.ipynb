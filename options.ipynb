{
 "cells": [
  {
   "cell_type": "markdown",
   "metadata": {},
   "source": [
    "## Option strategies"
   ]
  },
  {
   "cell_type": "code",
   "execution_count": 1,
   "metadata": {},
   "outputs": [],
   "source": [
    "import pandas as pd\n",
    "import numpy as np\n",
    "import matplotlib.pyplot as plt\n",
    "import ipywidgets as widgets\n",
    "from IPython.display import display\n",
    "\n",
    "%matplotlib inline\n",
    "%load_ext autoreload\n",
    "%autoreload 2"
   ]
  },
  {
   "cell_type": "code",
   "execution_count": 2,
   "metadata": {},
   "outputs": [
    {
     "name": "stdout",
     "output_type": "stream",
     "text": [
      "['#1f77b4', '#ff7f0e', '#2ca02c', '#d62728', '#9467bd', '#8c564b', '#e377c2', '#7f7f7f', '#bcbd22', '#17becf']\n"
     ]
    }
   ],
   "source": [
    "scheme = plt.rcParams['axes.prop_cycle'].by_key()['color']\n",
    "print(scheme)"
   ]
  },
  {
   "cell_type": "code",
   "execution_count": 3,
   "metadata": {},
   "outputs": [],
   "source": [
    "min_price = 0\n",
    "max_price = 130\n",
    "n_pts     = 10001\n",
    "# build stock data\n",
    "data = pd.DataFrame(np.linspace(min_price, \n",
    "                                max_price, \n",
    "                                n_pts), \n",
    "                     columns=['profit'])\n",
    "\n",
    "max_option_price = 30\n",
    "max_strike = 100"
   ]
  },
  {
   "cell_type": "code",
   "execution_count": 4,
   "metadata": {},
   "outputs": [],
   "source": [
    "def plot_strategy(position, option, strike, S_0, opt_price): \n",
    "    if option == 'call':\n",
    "        data['longcall'] = np.where(data['profit'] >= strike, \n",
    "                                    data['profit'] - strike - opt_price, \n",
    "                                    -opt_price)\n",
    "        if position == 'short':\n",
    "            data['shortcall'] = - data.longcall\n",
    "    else : # if put\n",
    "        data['longput'] = np.where(data['profit'] <= strike, \n",
    "                                   -data['profit'] + strike - opt_price, \n",
    "                                   -opt_price) \n",
    "        if position == 'short':\n",
    "            data['shortput'] = - data.longput\n",
    "    \n",
    "    # Plot profits\n",
    "    axis = data.plot(x = 'profit', \n",
    "                     y = position + option, \n",
    "                     figsize = (16, 8), \n",
    "                     linewidth = 3,\n",
    "                     label = 'profit')\n",
    "    # Plot horizontal 0 line\n",
    "    plt.axhline(0, \n",
    "                color = scheme[3], \n",
    "                linestyle = 'dashed', \n",
    "                linewidth = 1, \n",
    "                label = 'break-even')\n",
    "    # Plot terminal price\n",
    "    plt.axvline(S_0, \n",
    "                color = scheme[5], \n",
    "                linestyle = 'dashdot', \n",
    "                label = 'terminal price')\n",
    "    # Plot strike pice\n",
    "    plt.axvline(strike, \n",
    "                color = scheme[2], \n",
    "                linestyle = 'dotted', \n",
    "                linewidth = 2, \n",
    "                label = 'strike price')\n",
    "\n",
    "    plt.title(position.capitalize() + ' ' + option.lower())\n",
    "\n",
    "    plt.xlabel('Terminal stock price ($)')\n",
    "    \n",
    "    plt.ylim([-max_strike, max_strike])\n",
    "    plt.ylabel('Profit ($)')\n",
    "    # Style grid\n",
    "    plt.grid(which='major', color='#d3d3d3', linestyle='-', linewidth=1)\n",
    "    plt.minorticks_on()\n",
    "    plt.grid(b=True, which='minor', color='#999999', linestyle='-', alpha=0.1)\n",
    "\n",
    "    plt.legend()"
   ]
  },
  {
   "cell_type": "code",
   "execution_count": 5,
   "metadata": {},
   "outputs": [],
   "source": [
    "string_style = {'description_width': 'initial'}\n",
    "plot_controls = widgets.interactive(plot_strategy, \n",
    "                                    position = widgets.ToggleButtons(\n",
    "                                        options=['long', 'short'],\n",
    "                                        value='long',\n",
    "                                        description='Position:',\n",
    "                                        disabled=False\n",
    "                                    ),\n",
    "                                    option = widgets.ToggleButtons(\n",
    "                                        options=['call', 'put'],\n",
    "                                        value='call',\n",
    "                                        description='Option:',\n",
    "                                        disabled=False\n",
    "                                    ),\n",
    "                                    strike = widgets.FloatSlider(min=0, \n",
    "                                                                 max=max_strike, \n",
    "                                                                 step=.5, \n",
    "                                                                 value=max_strike/2,\n",
    "                                                                 description='Strike price:',\n",
    "                                                                 disabled=False,\n",
    "                                                                 continuous_update=False,\n",
    "                                                                 readout=True,\n",
    "                                                                 readout_format='.1f',\n",
    "                                                                 ),\n",
    "                                    opt_price = widgets.FloatSlider(min=0, \n",
    "                                                                    max=max_option_price, \n",
    "                                                                    step=.25, \n",
    "                                                                    value=max_option_price/2,\n",
    "                                                                    description='Option price:',\n",
    "                                                                    disabled=False,\n",
    "                                                                    continuous_update=False,\n",
    "                                                                    readout=True,\n",
    "                                                                    readout_format='.2f',\n",
    "                                                                    ),\n",
    "                                    S_0 = widgets.FloatSlider(min=0,\n",
    "                                                              max=max_strike,\n",
    "                                                              step=.5,\n",
    "                                                              value=max_strike/2 + 5,\n",
    "                                                              description='Terminal price:',\n",
    "                                                              style=string_style,\n",
    "                                                              disabled=False,\n",
    "                                                              continuous_update=False,\n",
    "                                                              readout=True,\n",
    "                                                              readout_format='.1f',\n",
    "                                                              )\n",
    "                                  )"
   ]
  },
  {
   "cell_type": "code",
   "execution_count": 6,
   "metadata": {},
   "outputs": [
    {
     "data": {
      "application/vnd.jupyter.widget-view+json": {
       "model_id": "bd9e42a53694492f84eaf03ead838c72",
       "version_major": 2,
       "version_minor": 0
      },
      "text/plain": [
       "interactive(children=(ToggleButtons(description='Position:', options=('long', 'short'), value='long'), ToggleB…"
      ]
     },
     "metadata": {},
     "output_type": "display_data"
    }
   ],
   "source": [
    "display(plot_controls)"
   ]
  }
 ],
 "metadata": {
  "kernelspec": {
   "display_name": "Python 3",
   "language": "python",
   "name": "python3"
  },
  "language_info": {
   "codemirror_mode": {
    "name": "ipython",
    "version": 3
   },
   "file_extension": ".py",
   "mimetype": "text/x-python",
   "name": "python",
   "nbconvert_exporter": "python",
   "pygments_lexer": "ipython3",
   "version": "3.8.5"
  }
 },
 "nbformat": 4,
 "nbformat_minor": 4
}
